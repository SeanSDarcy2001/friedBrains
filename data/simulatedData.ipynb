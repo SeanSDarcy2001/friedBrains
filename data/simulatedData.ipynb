{
  "nbformat": 4,
  "nbformat_minor": 0,
  "metadata": {
    "colab": {
      "name": "simulatedData.ipynb",
      "provenance": [],
      "authorship_tag": "ABX9TyP7DCQ8afKw3Uo5d2JZQr3g",
      "include_colab_link": true
    },
    "kernelspec": {
      "name": "python3",
      "display_name": "Python 3"
    },
    "language_info": {
      "name": "python"
    }
  },
  "cells": [
    {
      "cell_type": "markdown",
      "metadata": {
        "id": "view-in-github",
        "colab_type": "text"
      },
      "source": [
        "<a href=\"https://colab.research.google.com/github/SeanSDarcy2001/friedBrains/blob/main/data/simulatedData.ipynb\" target=\"_parent\"><img src=\"https://colab.research.google.com/assets/colab-badge.svg\" alt=\"Open In Colab\"/></a>"
      ]
    },
    {
      "cell_type": "markdown",
      "source": [
        "imports"
      ],
      "metadata": {
        "id": "q4cOTwsv_amw"
      }
    },
    {
      "cell_type": "code",
      "execution_count": 3,
      "metadata": {
        "id": "jRk530g4_Jd3"
      },
      "outputs": [],
      "source": [
        "from sklearn.datasets import make_classification, make_regression\n",
        "import pandas as pd\n",
        "import torch"
      ]
    },
    {
      "cell_type": "markdown",
      "source": [
        "data simulation"
      ],
      "metadata": {
        "id": "sWCci3J1_i41"
      }
    },
    {
      "cell_type": "code",
      "source": [
        "#for sober/intoxicated classifier\n",
        "\n",
        "features, output = make_classification(n_samples = 100,\n",
        "                                       n_features = 3,\n",
        "                                       n_informative= 3,\n",
        "                                       n_redundant=0,\n",
        "                                       n_classes = 2,\n",
        "                                       weights = [0.9, 0.1])\n",
        "\n",
        "#weights are for class generation. Roughly expect to play sober 90% of the time and intoxicated the other 10%\n",
        "\n",
        "print(pd.DataFrame(features, columns=['Reaction Time', 'Accuracy', 'Literally Anything Else']).head())\n",
        "print(pd.DataFrame(output, columns=['Class']))\n",
        "\n"
      ],
      "metadata": {
        "colab": {
          "base_uri": "https://localhost:8080/"
        },
        "id": "e_OEWzk8_lOp",
        "outputId": "a38c9793-edcc-4955-f452-675effbdde62"
      },
      "execution_count": 11,
      "outputs": [
        {
          "output_type": "stream",
          "name": "stdout",
          "text": [
            "   Reaction Time  Accuracy  Literally Anything Else\n",
            "0       2.491919  0.638131                 0.656741\n",
            "1      -0.462534  0.415373                 0.986198\n",
            "2      -0.926263  0.876857                 0.873389\n",
            "3      -1.239306  0.774224                -0.707406\n",
            "4      -0.771351  0.003060                 1.829987\n",
            "    Class\n",
            "0       0\n",
            "1       0\n",
            "2       0\n",
            "3       0\n",
            "4       1\n",
            "..    ...\n",
            "95      0\n",
            "96      0\n",
            "97      0\n",
            "98      0\n",
            "99      0\n",
            "\n",
            "[100 rows x 1 columns]\n"
          ]
        }
      ]
    }
  ]
}